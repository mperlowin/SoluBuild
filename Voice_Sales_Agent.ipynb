{
  "cells": [
    {
      "cell_type": "markdown",
      "metadata": {
        "colab_type": "text",
        "id": "view-in-github"
      },
      "source": [
        "<a href=\"https://colab.research.google.com/github/mperlowin/SoluBuild/blob/main/Voice_Sales_Agent.ipynb\" target=\"_parent\"><img src=\"https://colab.research.google.com/assets/colab-badge.svg\" alt=\"Open In Colab\"/></a>"
      ]
    },
    {
      "cell_type": "code",
      "execution_count": 1,
      "metadata": {
        "colab": {
          "base_uri": "https://localhost:8080/"
        },
        "id": "uJPnzHZm4X2Z",
        "outputId": "d5031bca-6dfc-4629-ac00-edb48af656e8"
      },
      "outputs": [
        {
          "name": "stdout",
          "output_type": "stream",
          "text": [
            "Python 3.12.1\n"
          ]
        }
      ],
      "source": [
        "!python --version"
      ]
    },
    {
      "cell_type": "code",
      "execution_count": 2,
      "metadata": {},
      "outputs": [],
      "source": [
        "!python -m venv venv\n",
        "!source venv/bin/activate"
      ]
    },
    {
      "cell_type": "code",
      "execution_count": 1,
      "metadata": {
        "colab": {
          "base_uri": "https://localhost:8080/"
        },
        "id": "LDV6AkjggrKM",
        "outputId": "00f178dd-ef07-4312-978b-1055e15824dd"
      },
      "outputs": [
        {
          "name": "stdout",
          "output_type": "stream",
          "text": [
            "Requirement already satisfied: ipykernel in /home/codespace/.local/lib/python3.12/site-packages (from -r requirements.txt (line 1)) (6.29.5)\n",
            "Requirement already satisfied: twilio in /home/codespace/.local/lib/python3.12/site-packages (from -r requirements.txt (line 2)) (9.2.3)\n",
            "Requirement already satisfied: python-dotenv in /home/codespace/.local/lib/python3.12/site-packages (from -r requirements.txt (line 3)) (1.0.1)\n",
            "Requirement already satisfied: flask in /home/codespace/.local/lib/python3.12/site-packages (from -r requirements.txt (line 4)) (3.0.3)\n",
            "Requirement already satisfied: ngrok in /home/codespace/.local/lib/python3.12/site-packages (from -r requirements.txt (line 6)) (1.4.0)\n",
            "Requirement already satisfied: virtualenv in /home/codespace/.local/lib/python3.12/site-packages (from -r requirements.txt (line 7)) (20.26.3)\n",
            "Requirement already satisfied: nest_asyncio in /home/codespace/.local/lib/python3.12/site-packages (from -r requirements.txt (line 8)) (1.6.0)\n",
            "Requirement already satisfied: comm>=0.1.1 in /home/codespace/.local/lib/python3.12/site-packages (from ipykernel->-r requirements.txt (line 1)) (0.2.2)\n",
            "Requirement already satisfied: debugpy>=1.6.5 in /home/codespace/.local/lib/python3.12/site-packages (from ipykernel->-r requirements.txt (line 1)) (1.8.5)\n",
            "Requirement already satisfied: ipython>=7.23.1 in /home/codespace/.local/lib/python3.12/site-packages (from ipykernel->-r requirements.txt (line 1)) (8.26.0)\n",
            "Requirement already satisfied: jupyter-client>=6.1.12 in /home/codespace/.local/lib/python3.12/site-packages (from ipykernel->-r requirements.txt (line 1)) (8.6.2)\n",
            "Requirement already satisfied: jupyter-core!=5.0.*,>=4.12 in /home/codespace/.local/lib/python3.12/site-packages (from ipykernel->-r requirements.txt (line 1)) (5.7.2)\n",
            "Requirement already satisfied: matplotlib-inline>=0.1 in /home/codespace/.local/lib/python3.12/site-packages (from ipykernel->-r requirements.txt (line 1)) (0.1.7)\n",
            "Requirement already satisfied: packaging in /home/codespace/.local/lib/python3.12/site-packages (from ipykernel->-r requirements.txt (line 1)) (24.1)\n",
            "Requirement already satisfied: psutil in /home/codespace/.local/lib/python3.12/site-packages (from ipykernel->-r requirements.txt (line 1)) (6.0.0)\n",
            "Requirement already satisfied: pyzmq>=24 in /home/codespace/.local/lib/python3.12/site-packages (from ipykernel->-r requirements.txt (line 1)) (26.1.1)\n",
            "Requirement already satisfied: tornado>=6.1 in /home/codespace/.local/lib/python3.12/site-packages (from ipykernel->-r requirements.txt (line 1)) (6.4.1)\n",
            "Requirement already satisfied: traitlets>=5.4.0 in /home/codespace/.local/lib/python3.12/site-packages (from ipykernel->-r requirements.txt (line 1)) (5.14.3)\n",
            "Requirement already satisfied: requests>=2.0.0 in /home/codespace/.local/lib/python3.12/site-packages (from twilio->-r requirements.txt (line 2)) (2.32.3)\n",
            "Requirement already satisfied: PyJWT<3.0.0,>=2.0.0 in /home/codespace/.local/lib/python3.12/site-packages (from twilio->-r requirements.txt (line 2)) (2.9.0)\n",
            "Requirement already satisfied: aiohttp>=3.8.4 in /home/codespace/.local/lib/python3.12/site-packages (from twilio->-r requirements.txt (line 2)) (3.10.5)\n",
            "Requirement already satisfied: aiohttp-retry>=2.8.3 in /home/codespace/.local/lib/python3.12/site-packages (from twilio->-r requirements.txt (line 2)) (2.8.3)\n",
            "Requirement already satisfied: Werkzeug>=3.0.0 in /home/codespace/.local/lib/python3.12/site-packages (from flask->-r requirements.txt (line 4)) (3.0.3)\n",
            "Requirement already satisfied: Jinja2>=3.1.2 in /home/codespace/.local/lib/python3.12/site-packages (from flask->-r requirements.txt (line 4)) (3.1.4)\n",
            "Requirement already satisfied: itsdangerous>=2.1.2 in /home/codespace/.local/lib/python3.12/site-packages (from flask->-r requirements.txt (line 4)) (2.2.0)\n",
            "Requirement already satisfied: click>=8.1.3 in /home/codespace/.local/lib/python3.12/site-packages (from flask->-r requirements.txt (line 4)) (8.1.7)\n",
            "Requirement already satisfied: blinker>=1.6.2 in /home/codespace/.local/lib/python3.12/site-packages (from flask->-r requirements.txt (line 4)) (1.8.2)\n",
            "Requirement already satisfied: distlib<1,>=0.3.7 in /home/codespace/.local/lib/python3.12/site-packages (from virtualenv->-r requirements.txt (line 7)) (0.3.8)\n",
            "Requirement already satisfied: filelock<4,>=3.12.2 in /home/codespace/.local/lib/python3.12/site-packages (from virtualenv->-r requirements.txt (line 7)) (3.15.4)\n",
            "Requirement already satisfied: platformdirs<5,>=3.9.1 in /home/codespace/.local/lib/python3.12/site-packages (from virtualenv->-r requirements.txt (line 7)) (4.2.2)\n",
            "Requirement already satisfied: asgiref>=3.2 in /home/codespace/.local/lib/python3.12/site-packages (from flask[async]->-r requirements.txt (line 9)) (3.8.1)\n",
            "Requirement already satisfied: aiohappyeyeballs>=2.3.0 in /home/codespace/.local/lib/python3.12/site-packages (from aiohttp>=3.8.4->twilio->-r requirements.txt (line 2)) (2.4.0)\n",
            "Requirement already satisfied: aiosignal>=1.1.2 in /home/codespace/.local/lib/python3.12/site-packages (from aiohttp>=3.8.4->twilio->-r requirements.txt (line 2)) (1.3.1)\n",
            "Requirement already satisfied: attrs>=17.3.0 in /home/codespace/.local/lib/python3.12/site-packages (from aiohttp>=3.8.4->twilio->-r requirements.txt (line 2)) (24.2.0)\n",
            "Requirement already satisfied: frozenlist>=1.1.1 in /home/codespace/.local/lib/python3.12/site-packages (from aiohttp>=3.8.4->twilio->-r requirements.txt (line 2)) (1.4.1)\n",
            "Requirement already satisfied: multidict<7.0,>=4.5 in /home/codespace/.local/lib/python3.12/site-packages (from aiohttp>=3.8.4->twilio->-r requirements.txt (line 2)) (6.0.5)\n",
            "Requirement already satisfied: yarl<2.0,>=1.0 in /home/codespace/.local/lib/python3.12/site-packages (from aiohttp>=3.8.4->twilio->-r requirements.txt (line 2)) (1.9.4)\n",
            "Requirement already satisfied: decorator in /home/codespace/.local/lib/python3.12/site-packages (from ipython>=7.23.1->ipykernel->-r requirements.txt (line 1)) (5.1.1)\n",
            "Requirement already satisfied: jedi>=0.16 in /home/codespace/.local/lib/python3.12/site-packages (from ipython>=7.23.1->ipykernel->-r requirements.txt (line 1)) (0.19.1)\n",
            "Requirement already satisfied: prompt-toolkit<3.1.0,>=3.0.41 in /home/codespace/.local/lib/python3.12/site-packages (from ipython>=7.23.1->ipykernel->-r requirements.txt (line 1)) (3.0.47)\n",
            "Requirement already satisfied: pygments>=2.4.0 in /home/codespace/.local/lib/python3.12/site-packages (from ipython>=7.23.1->ipykernel->-r requirements.txt (line 1)) (2.18.0)\n",
            "Requirement already satisfied: stack-data in /home/codespace/.local/lib/python3.12/site-packages (from ipython>=7.23.1->ipykernel->-r requirements.txt (line 1)) (0.6.3)\n",
            "Requirement already satisfied: pexpect>4.3 in /home/codespace/.local/lib/python3.12/site-packages (from ipython>=7.23.1->ipykernel->-r requirements.txt (line 1)) (4.9.0)\n",
            "Requirement already satisfied: MarkupSafe>=2.0 in /home/codespace/.local/lib/python3.12/site-packages (from Jinja2>=3.1.2->flask->-r requirements.txt (line 4)) (2.1.5)\n",
            "Requirement already satisfied: python-dateutil>=2.8.2 in /home/codespace/.local/lib/python3.12/site-packages (from jupyter-client>=6.1.12->ipykernel->-r requirements.txt (line 1)) (2.9.0.post0)\n",
            "Requirement already satisfied: charset-normalizer<4,>=2 in /home/codespace/.local/lib/python3.12/site-packages (from requests>=2.0.0->twilio->-r requirements.txt (line 2)) (3.3.2)\n",
            "Requirement already satisfied: idna<4,>=2.5 in /home/codespace/.local/lib/python3.12/site-packages (from requests>=2.0.0->twilio->-r requirements.txt (line 2)) (3.7)\n",
            "Requirement already satisfied: urllib3<3,>=1.21.1 in /home/codespace/.local/lib/python3.12/site-packages (from requests>=2.0.0->twilio->-r requirements.txt (line 2)) (2.2.2)\n",
            "Requirement already satisfied: certifi>=2017.4.17 in /home/codespace/.local/lib/python3.12/site-packages (from requests>=2.0.0->twilio->-r requirements.txt (line 2)) (2024.7.4)\n",
            "Requirement already satisfied: parso<0.9.0,>=0.8.3 in /home/codespace/.local/lib/python3.12/site-packages (from jedi>=0.16->ipython>=7.23.1->ipykernel->-r requirements.txt (line 1)) (0.8.4)\n",
            "Requirement already satisfied: ptyprocess>=0.5 in /home/codespace/.local/lib/python3.12/site-packages (from pexpect>4.3->ipython>=7.23.1->ipykernel->-r requirements.txt (line 1)) (0.7.0)\n",
            "Requirement already satisfied: wcwidth in /home/codespace/.local/lib/python3.12/site-packages (from prompt-toolkit<3.1.0,>=3.0.41->ipython>=7.23.1->ipykernel->-r requirements.txt (line 1)) (0.2.13)\n",
            "Requirement already satisfied: six>=1.5 in /home/codespace/.local/lib/python3.12/site-packages (from python-dateutil>=2.8.2->jupyter-client>=6.1.12->ipykernel->-r requirements.txt (line 1)) (1.16.0)\n",
            "Requirement already satisfied: executing>=1.2.0 in /home/codespace/.local/lib/python3.12/site-packages (from stack-data->ipython>=7.23.1->ipykernel->-r requirements.txt (line 1)) (2.0.1)\n",
            "Requirement already satisfied: asttokens>=2.1.0 in /home/codespace/.local/lib/python3.12/site-packages (from stack-data->ipython>=7.23.1->ipykernel->-r requirements.txt (line 1)) (2.4.1)\n",
            "Requirement already satisfied: pure-eval in /home/codespace/.local/lib/python3.12/site-packages (from stack-data->ipython>=7.23.1->ipykernel->-r requirements.txt (line 1)) (0.2.3)\n",
            "Note: you may need to restart the kernel to use updated packages.\n"
          ]
        }
      ],
      "source": [
        "%pip install -r requirements.txt"
      ]
    },
    {
      "cell_type": "code",
      "execution_count": 2,
      "metadata": {},
      "outputs": [
        {
          "name": "stdout",
          "output_type": "stream",
          "text": [
            "this works!\n"
          ]
        }
      ],
      "source": [
        "print(\"this works!\")"
      ]
    },
    {
      "cell_type": "code",
      "execution_count": 1,
      "metadata": {
        "id": "l2FpykDng4I6"
      },
      "outputs": [
        {
          "name": "stdout",
          "output_type": "stream",
          "text": [
            "CAa0c4e10c99649f487917eb8d8474e9c8\n"
          ]
        }
      ],
      "source": [
        "import os\n",
        "try:\n",
        "    from google.colab import userdata\n",
        "    IN_COLAB = True\n",
        "except ImportError:\n",
        "    IN_COLAB = False\n",
        "    from dotenv import load_dotenv\n",
        "    load_dotenv()\n",
        "from twilio.rest import Client\n",
        "\n",
        "account_sid = userdata.get(\"TWILIO_ACCOUNT_SID\") if IN_COLAB else os.getenv(\"TWILIO_ACCOUNT_SID\")\n",
        "auth_token = userdata.get(\"TWILIO_AUTH_TOKEN\") if IN_COLAB else os.getenv(\"TWILIO_AUTH_TOKEN\")\n",
        "client = Client(account_sid, auth_token)\n",
        "\n",
        "call = client.calls.create(\n",
        "    twiml=\"\"\"\n",
        "    <Response>\n",
        "        <Connect>\n",
        "            <Stream url=\"wss://bb89-172-182-200-128.ngrok-free.app/media\" />\n",
        "        </Connect>\n",
        "        <Play loop=\"0\">https://bb89-172-182-200-128.ngrok-free.app/output.mp3</Play>\n",
        "    </Response>\n",
        "    \"\"\",\n",
        "    to=\"+12393513986\",\n",
        "    from_=\"+18449454174\",\n",
        ")\n",
        "\n",
        "print(call.sid)"
      ]
    },
    {
      "cell_type": "code",
      "execution_count": null,
      "metadata": {},
      "outputs": [],
      "source": [
        "# To stop the app\n",
        "!curl -X POST http://127.0.0.1:5000/shutdown"
      ]
    },
    {
      "cell_type": "code",
      "execution_count": null,
      "metadata": {
        "id": "eO2rPjIHrQdO"
      },
      "outputs": [],
      "source": [
        "def check_threads():\n",
        "  threads = threading.enumerate()\n",
        "  print(f\"Active Threads ({len(threads)})\")\n",
        "  for thread in threads:\n",
        "    print(f\"- Name: {thread.name}, Alive: {thread.is_alive()}\")"
      ]
    },
    {
      "cell_type": "code",
      "execution_count": null,
      "metadata": {
        "colab": {
          "base_uri": "https://localhost:8080/"
        },
        "id": "iIwk9vUWripi",
        "outputId": "0f641942-55f5-4d5b-fbfb-ecb1236e29b8"
      },
      "outputs": [
        {
          "name": "stdout",
          "output_type": "stream",
          "text": [
            "Active Threads (5)\n",
            "- Name: MainThread, Alive: True\n",
            "- Name: Thread-2 (_thread_main), Alive: True\n",
            "- Name: Thread-3, Alive: True\n",
            "- Name: Thread-1, Alive: True\n",
            "- Name: _colab_inspector_thread, Alive: True\n"
          ]
        }
      ],
      "source": [
        "check_threads()"
      ]
    },
    {
      "cell_type": "code",
      "execution_count": null,
      "metadata": {
        "colab": {
          "base_uri": "https://localhost:8080/"
        },
        "id": "xC_jk3UhvU7M",
        "outputId": "f46218b8-bc82-4493-9145-3555161e4d5c"
      },
      "outputs": [
        {
          "name": "stdout",
          "output_type": "stream",
          "text": [
            "Flask server is not running.\n"
          ]
        }
      ],
      "source": [
        "stop_flask()"
      ]
    },
    {
      "cell_type": "code",
      "execution_count": null,
      "metadata": {
        "colab": {
          "base_uri": "https://localhost:8080/",
          "height": 67,
          "referenced_widgets": [
            "28afd4b82f1e4bf49dc0a78f162bb947",
            "9313659da46d4e128c50fa8106509747",
            "076258d50d494a0bba27554944ae5072",
            "d0fab3eb962b4de7855afeea27df6a49",
            "232833a1c2844a84ae27c4ddbe919015",
            "b0ac6e02d1a947c9b1aa351dfcabd083",
            "d4c05ff786764c658bc6f2c6bf90d677",
            "b338787355ac45f0bb267e25d0a4e075",
            "97522ba72c354045a69ecae6fa7eeef2",
            "844f9bc6e6e74c01b14adf4e5cc47032",
            "b6367662b2724b96b0218dcf3a4bf289"
          ]
        },
        "id": "Qz_J8q73mLGW",
        "outputId": "62bdc4c5-5178-4f1c-b01b-a6ce88b2346b"
      },
      "outputs": [
        {
          "data": {
            "application/vnd.jupyter.widget-view+json": {
              "model_id": "28afd4b82f1e4bf49dc0a78f162bb947",
              "version_major": 2,
              "version_minor": 0
            },
            "text/plain": [
              "Loading checkpoint shards:   0%|          | 0/2 [00:00<?, ?it/s]"
            ]
          },
          "metadata": {},
          "output_type": "display_data"
        },
        {
          "name": "stdout",
          "output_type": "stream",
          "text": [
            "I'm doing well, thank you. How are you?\n"
          ]
        }
      ],
      "source": [
        "# pip install accelerate\n",
        "from transformers import AutoTokenizer, AutoModelForSeq2SeqLM\n",
        "\n",
        "tokenizer = AutoTokenizer.from_pretrained(\"Salesforce/dialogstudio-t5-3b-v1.0\")\n",
        "model = AutoModelForSeq2SeqLM.from_pretrained(\"Salesforce/dialogstudio-t5-3b-v1.0\", device_map=\"auto\")\n",
        "\n",
        "input_text = \"Hi, how are you?\"\n",
        "input_ids = tokenizer(input_text, return_tensors=\"pt\").input_ids.to(\"cuda\")\n",
        "\n",
        "outputs = model.generate(input_ids, max_new_tokens=256)\n",
        "print(tokenizer.decode(outputs[0], skip_special_tokens=True))\n"
      ]
    },
    {
      "cell_type": "code",
      "execution_count": null,
      "metadata": {
        "id": "_PwbP18lr1gm"
      },
      "outputs": [],
      "source": [
        "whisper_tokenizer = AutoTokenizer.from_pretrained(\"openai/whisper-large-v3\")\n",
        "whisper_model = AutoModelForSeq2SeqLM.from_pretrained(\"openai/whisper-large-v3\")\n",
        "\n"
      ]
    }
  ],
  "metadata": {
    "accelerator": "GPU",
    "colab": {
      "authorship_tag": "ABX9TyNAr4FS1v8IGnWJ0jnFYftp",
      "gpuType": "T4",
      "include_colab_link": true,
      "provenance": []
    },
    "kernelspec": {
      "display_name": "Python 3",
      "name": "python3"
    },
    "language_info": {
      "codemirror_mode": {
        "name": "ipython",
        "version": 3
      },
      "file_extension": ".py",
      "mimetype": "text/x-python",
      "name": "python",
      "nbconvert_exporter": "python",
      "pygments_lexer": "ipython3",
      "version": "3.12.1"
    },
    "widgets": {
      "application/vnd.jupyter.widget-state+json": {
        "076258d50d494a0bba27554944ae5072": {
          "model_module": "@jupyter-widgets/controls",
          "model_module_version": "1.5.0",
          "model_name": "FloatProgressModel",
          "state": {
            "_dom_classes": [],
            "_model_module": "@jupyter-widgets/controls",
            "_model_module_version": "1.5.0",
            "_model_name": "FloatProgressModel",
            "_view_count": null,
            "_view_module": "@jupyter-widgets/controls",
            "_view_module_version": "1.5.0",
            "_view_name": "ProgressView",
            "bar_style": "success",
            "description": "",
            "description_tooltip": null,
            "layout": "IPY_MODEL_b338787355ac45f0bb267e25d0a4e075",
            "max": 2,
            "min": 0,
            "orientation": "horizontal",
            "style": "IPY_MODEL_97522ba72c354045a69ecae6fa7eeef2",
            "value": 2
          }
        },
        "232833a1c2844a84ae27c4ddbe919015": {
          "model_module": "@jupyter-widgets/base",
          "model_module_version": "1.2.0",
          "model_name": "LayoutModel",
          "state": {
            "_model_module": "@jupyter-widgets/base",
            "_model_module_version": "1.2.0",
            "_model_name": "LayoutModel",
            "_view_count": null,
            "_view_module": "@jupyter-widgets/base",
            "_view_module_version": "1.2.0",
            "_view_name": "LayoutView",
            "align_content": null,
            "align_items": null,
            "align_self": null,
            "border": null,
            "bottom": null,
            "display": null,
            "flex": null,
            "flex_flow": null,
            "grid_area": null,
            "grid_auto_columns": null,
            "grid_auto_flow": null,
            "grid_auto_rows": null,
            "grid_column": null,
            "grid_gap": null,
            "grid_row": null,
            "grid_template_areas": null,
            "grid_template_columns": null,
            "grid_template_rows": null,
            "height": null,
            "justify_content": null,
            "justify_items": null,
            "left": null,
            "margin": null,
            "max_height": null,
            "max_width": null,
            "min_height": null,
            "min_width": null,
            "object_fit": null,
            "object_position": null,
            "order": null,
            "overflow": null,
            "overflow_x": null,
            "overflow_y": null,
            "padding": null,
            "right": null,
            "top": null,
            "visibility": null,
            "width": null
          }
        },
        "28afd4b82f1e4bf49dc0a78f162bb947": {
          "model_module": "@jupyter-widgets/controls",
          "model_module_version": "1.5.0",
          "model_name": "HBoxModel",
          "state": {
            "_dom_classes": [],
            "_model_module": "@jupyter-widgets/controls",
            "_model_module_version": "1.5.0",
            "_model_name": "HBoxModel",
            "_view_count": null,
            "_view_module": "@jupyter-widgets/controls",
            "_view_module_version": "1.5.0",
            "_view_name": "HBoxView",
            "box_style": "",
            "children": [
              "IPY_MODEL_9313659da46d4e128c50fa8106509747",
              "IPY_MODEL_076258d50d494a0bba27554944ae5072",
              "IPY_MODEL_d0fab3eb962b4de7855afeea27df6a49"
            ],
            "layout": "IPY_MODEL_232833a1c2844a84ae27c4ddbe919015"
          }
        },
        "844f9bc6e6e74c01b14adf4e5cc47032": {
          "model_module": "@jupyter-widgets/base",
          "model_module_version": "1.2.0",
          "model_name": "LayoutModel",
          "state": {
            "_model_module": "@jupyter-widgets/base",
            "_model_module_version": "1.2.0",
            "_model_name": "LayoutModel",
            "_view_count": null,
            "_view_module": "@jupyter-widgets/base",
            "_view_module_version": "1.2.0",
            "_view_name": "LayoutView",
            "align_content": null,
            "align_items": null,
            "align_self": null,
            "border": null,
            "bottom": null,
            "display": null,
            "flex": null,
            "flex_flow": null,
            "grid_area": null,
            "grid_auto_columns": null,
            "grid_auto_flow": null,
            "grid_auto_rows": null,
            "grid_column": null,
            "grid_gap": null,
            "grid_row": null,
            "grid_template_areas": null,
            "grid_template_columns": null,
            "grid_template_rows": null,
            "height": null,
            "justify_content": null,
            "justify_items": null,
            "left": null,
            "margin": null,
            "max_height": null,
            "max_width": null,
            "min_height": null,
            "min_width": null,
            "object_fit": null,
            "object_position": null,
            "order": null,
            "overflow": null,
            "overflow_x": null,
            "overflow_y": null,
            "padding": null,
            "right": null,
            "top": null,
            "visibility": null,
            "width": null
          }
        },
        "9313659da46d4e128c50fa8106509747": {
          "model_module": "@jupyter-widgets/controls",
          "model_module_version": "1.5.0",
          "model_name": "HTMLModel",
          "state": {
            "_dom_classes": [],
            "_model_module": "@jupyter-widgets/controls",
            "_model_module_version": "1.5.0",
            "_model_name": "HTMLModel",
            "_view_count": null,
            "_view_module": "@jupyter-widgets/controls",
            "_view_module_version": "1.5.0",
            "_view_name": "HTMLView",
            "description": "",
            "description_tooltip": null,
            "layout": "IPY_MODEL_b0ac6e02d1a947c9b1aa351dfcabd083",
            "placeholder": "​",
            "style": "IPY_MODEL_d4c05ff786764c658bc6f2c6bf90d677",
            "value": "Loading checkpoint shards: 100%"
          }
        },
        "97522ba72c354045a69ecae6fa7eeef2": {
          "model_module": "@jupyter-widgets/controls",
          "model_module_version": "1.5.0",
          "model_name": "ProgressStyleModel",
          "state": {
            "_model_module": "@jupyter-widgets/controls",
            "_model_module_version": "1.5.0",
            "_model_name": "ProgressStyleModel",
            "_view_count": null,
            "_view_module": "@jupyter-widgets/base",
            "_view_module_version": "1.2.0",
            "_view_name": "StyleView",
            "bar_color": null,
            "description_width": ""
          }
        },
        "b0ac6e02d1a947c9b1aa351dfcabd083": {
          "model_module": "@jupyter-widgets/base",
          "model_module_version": "1.2.0",
          "model_name": "LayoutModel",
          "state": {
            "_model_module": "@jupyter-widgets/base",
            "_model_module_version": "1.2.0",
            "_model_name": "LayoutModel",
            "_view_count": null,
            "_view_module": "@jupyter-widgets/base",
            "_view_module_version": "1.2.0",
            "_view_name": "LayoutView",
            "align_content": null,
            "align_items": null,
            "align_self": null,
            "border": null,
            "bottom": null,
            "display": null,
            "flex": null,
            "flex_flow": null,
            "grid_area": null,
            "grid_auto_columns": null,
            "grid_auto_flow": null,
            "grid_auto_rows": null,
            "grid_column": null,
            "grid_gap": null,
            "grid_row": null,
            "grid_template_areas": null,
            "grid_template_columns": null,
            "grid_template_rows": null,
            "height": null,
            "justify_content": null,
            "justify_items": null,
            "left": null,
            "margin": null,
            "max_height": null,
            "max_width": null,
            "min_height": null,
            "min_width": null,
            "object_fit": null,
            "object_position": null,
            "order": null,
            "overflow": null,
            "overflow_x": null,
            "overflow_y": null,
            "padding": null,
            "right": null,
            "top": null,
            "visibility": null,
            "width": null
          }
        },
        "b338787355ac45f0bb267e25d0a4e075": {
          "model_module": "@jupyter-widgets/base",
          "model_module_version": "1.2.0",
          "model_name": "LayoutModel",
          "state": {
            "_model_module": "@jupyter-widgets/base",
            "_model_module_version": "1.2.0",
            "_model_name": "LayoutModel",
            "_view_count": null,
            "_view_module": "@jupyter-widgets/base",
            "_view_module_version": "1.2.0",
            "_view_name": "LayoutView",
            "align_content": null,
            "align_items": null,
            "align_self": null,
            "border": null,
            "bottom": null,
            "display": null,
            "flex": null,
            "flex_flow": null,
            "grid_area": null,
            "grid_auto_columns": null,
            "grid_auto_flow": null,
            "grid_auto_rows": null,
            "grid_column": null,
            "grid_gap": null,
            "grid_row": null,
            "grid_template_areas": null,
            "grid_template_columns": null,
            "grid_template_rows": null,
            "height": null,
            "justify_content": null,
            "justify_items": null,
            "left": null,
            "margin": null,
            "max_height": null,
            "max_width": null,
            "min_height": null,
            "min_width": null,
            "object_fit": null,
            "object_position": null,
            "order": null,
            "overflow": null,
            "overflow_x": null,
            "overflow_y": null,
            "padding": null,
            "right": null,
            "top": null,
            "visibility": null,
            "width": null
          }
        },
        "b6367662b2724b96b0218dcf3a4bf289": {
          "model_module": "@jupyter-widgets/controls",
          "model_module_version": "1.5.0",
          "model_name": "DescriptionStyleModel",
          "state": {
            "_model_module": "@jupyter-widgets/controls",
            "_model_module_version": "1.5.0",
            "_model_name": "DescriptionStyleModel",
            "_view_count": null,
            "_view_module": "@jupyter-widgets/base",
            "_view_module_version": "1.2.0",
            "_view_name": "StyleView",
            "description_width": ""
          }
        },
        "d0fab3eb962b4de7855afeea27df6a49": {
          "model_module": "@jupyter-widgets/controls",
          "model_module_version": "1.5.0",
          "model_name": "HTMLModel",
          "state": {
            "_dom_classes": [],
            "_model_module": "@jupyter-widgets/controls",
            "_model_module_version": "1.5.0",
            "_model_name": "HTMLModel",
            "_view_count": null,
            "_view_module": "@jupyter-widgets/controls",
            "_view_module_version": "1.5.0",
            "_view_name": "HTMLView",
            "description": "",
            "description_tooltip": null,
            "layout": "IPY_MODEL_844f9bc6e6e74c01b14adf4e5cc47032",
            "placeholder": "​",
            "style": "IPY_MODEL_b6367662b2724b96b0218dcf3a4bf289",
            "value": " 2/2 [00:32&lt;00:00, 14.65s/it]"
          }
        },
        "d4c05ff786764c658bc6f2c6bf90d677": {
          "model_module": "@jupyter-widgets/controls",
          "model_module_version": "1.5.0",
          "model_name": "DescriptionStyleModel",
          "state": {
            "_model_module": "@jupyter-widgets/controls",
            "_model_module_version": "1.5.0",
            "_model_name": "DescriptionStyleModel",
            "_view_count": null,
            "_view_module": "@jupyter-widgets/base",
            "_view_module_version": "1.2.0",
            "_view_name": "StyleView",
            "description_width": ""
          }
        }
      }
    }
  },
  "nbformat": 4,
  "nbformat_minor": 0
}
